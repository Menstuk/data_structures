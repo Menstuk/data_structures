{
 "cells": [
  {
   "cell_type": "code",
   "execution_count": 5,
   "metadata": {},
   "outputs": [],
   "source": [
    "import random\n",
    "import time"
   ]
  },
  {
   "cell_type": "code",
   "execution_count": 6,
   "metadata": {},
   "outputs": [],
   "source": [
    "def insertion_sort(arr):\n",
    "    for i in range(0, len(arr)):\n",
    "        key = arr[i]\n",
    "        j = i - 1\n",
    "        for j in range(i - 1, -1, -1):\n",
    "            if arr[j] > key:\n",
    "                    arr[j + 1] = arr[j]  # Shift elements to the right\n",
    "            j -= 1\n",
    "        arr[j + 1] = key  # Place key in the correct position"
   ]
  },
  {
   "cell_type": "code",
   "execution_count": 7,
   "metadata": {},
   "outputs": [],
   "source": [
    "def insert_with_time(arr):\n",
    "    start = time.time()\n",
    "    insertion_sort(arr)\n",
    "    end = time.time()\n",
    "    return end - start"
   ]
  },
  {
   "cell_type": "code",
   "execution_count": 109,
   "metadata": {},
   "outputs": [
    {
     "name": "stdout",
     "output_type": "stream",
     "text": [
      "[0, 1, 2, 3, 4, 5, 6, 7, 8, 9, 10, 11, 12, 13, 14, 15, 16, 17, 18, 19, 20, 21, 22, 23, 24, 25, 26, 27, 28, 29, 30, 31, 32, 33, 34, 35, 36, 37, 38, 39, 40, 41, 42, 43, 44, 45, 46, 47, 48, 49, 50, 51, 52, 53, 54, 55, 56, 57, 58, 59, 60, 61, 62, 63, 64, 65, 66, 67, 68, 69, 70, 71, 72, 73, 74, 75, 76, 77, 78, 79, 80, 81, 82, 83, 84, 85, 86, 87, 88, 89, 90, 91, 92, 93, 94, 95, 96, 97, 98, 99]\n"
     ]
    }
   ],
   "source": [
    "to_sort_arr0 = list(range(99,-1,-1))\n",
    "insertion_sort(to_sort_arr0)\n",
    "print(to_sort_arr0)"
   ]
  },
  {
   "cell_type": "markdown",
   "metadata": {},
   "source": [
    "Generate two arrays working in the Worst Case Scenario (WCS). \n",
    "The arrays length ratio is given by the parameter LENGTH_RATIO.\n",
    "We call the insertion sort and expect the time ratio between them to be quadratic in LENGTH_RATIO"
   ]
  },
  {
   "cell_type": "code",
   "execution_count": null,
   "metadata": {},
   "outputs": [
    {
     "name": "stdout",
     "output_type": "stream",
     "text": [
      "Time taken for 1000 elements:  0.04454636573791504\n",
      "Time taken for 2000 elements:  0.14714813232421875\n"
     ]
    }
   ],
   "source": [
    "LENGTH_RATIO = 2\n",
    "to_sort_arr1 = list(range(1000,0,-1))\n",
    "to_sort_arr2 = list(range(1000 * LENGTH_RATIO,0,-1))\n",
    "\n",
    "time_taken1 = insert_with_time(to_sort_arr1)\n",
    "time_taken2 = insert_with_time(to_sort_arr2)\n",
    "\n",
    "print(\"Time taken for 1000 elements: \", time_taken1)\n",
    "print(\"Time taken for 2000 elements: \", time_taken2)"
   ]
  },
  {
   "cell_type": "markdown",
   "metadata": {},
   "source": [
    "Now we generate two random arrays.\n",
    "The arrays length ratio is given by the parameter LENGTH_RATIO.\n",
    "We call the insertion sort and expect the time ratio between them to be quadratic in LENGTH_RATIO"
   ]
  },
  {
   "cell_type": "code",
   "execution_count": null,
   "metadata": {},
   "outputs": [
    {
     "name": "stdout",
     "output_type": "stream",
     "text": [
      "Time taken for 1000 elements:  0.04079413414001465\n",
      "Time taken for 2000 elements:  0.14936542510986328\n"
     ]
    }
   ],
   "source": [
    "LENGTH_RATIO = 2\n",
    "to_sort_arr1 = random.sample(range(-10000, 10000), 1000)\n",
    "to_sort_arr2 = random.sample(range(-10000, 10000), 1000 * LENGTH_RATIO)\n",
    "\n",
    "time_taken1 = insert_with_time(to_sort_arr1)\n",
    "time_taken2 = insert_with_time(to_sort_arr2)\n",
    "\n",
    "print(\"Time taken for 1000 elements: \", time_taken1)\n",
    "print(\"Time taken for 2000 elements: \", time_taken2)"
   ]
  }
 ],
 "metadata": {
  "kernelspec": {
   "display_name": "base",
   "language": "python",
   "name": "python3"
  },
  "language_info": {
   "codemirror_mode": {
    "name": "ipython",
    "version": 3
   },
   "file_extension": ".py",
   "mimetype": "text/x-python",
   "name": "python",
   "nbconvert_exporter": "python",
   "pygments_lexer": "ipython3",
   "version": "3.11.4"
  }
 },
 "nbformat": 4,
 "nbformat_minor": 2
}
